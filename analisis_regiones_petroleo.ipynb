{
 "cells": [
  {
   "cell_type": "markdown",
   "id": "b7c4fce0",
   "metadata": {},
   "source": [
    "# Proyecto: Selección de región óptima para perforación de pozos petroleros\n",
    "Este proyecto evalúa tres regiones con datos sintéticos para determinar dónde perforar 200 nuevos pozos de petróleo. Se utiliza regresión lineal para predecir reservas, se estima el beneficio y se analiza el riesgo con bootstrapping."
   ]
  },
  {
   "cell_type": "code",
   "execution_count": 23,
   "id": "38f5b01b",
   "metadata": {},
   "outputs": [],
   "source": [
    "import pandas as pd\n",
    "import numpy as np\n",
    "from sklearn.linear_model import LinearRegression\n",
    "from sklearn.model_selection import train_test_split\n",
    "from sklearn.metrics import mean_squared_error\n",
    "import matplotlib.pyplot as plt\n",
    "import seaborn as sns\n",
    "\n",
    "\n"
   ]
  },
  {
   "cell_type": "markdown",
   "id": "34d03512",
   "metadata": {},
   "source": [
    "## 1. Carga y exploración de los datos"
   ]
  },
  {
   "cell_type": "code",
   "execution_count": 24,
   "id": "b98c9870",
   "metadata": {},
   "outputs": [
    {
     "name": "stdout",
     "output_type": "stream",
     "text": [
      "Región 0:\n",
      "<class 'pandas.core.frame.DataFrame'>\n",
      "RangeIndex: 100000 entries, 0 to 99999\n",
      "Data columns (total 5 columns):\n",
      " #   Column   Non-Null Count   Dtype  \n",
      "---  ------   --------------   -----  \n",
      " 0   id       100000 non-null  object \n",
      " 1   f0       100000 non-null  float64\n",
      " 2   f1       100000 non-null  float64\n",
      " 3   f2       100000 non-null  float64\n",
      " 4   product  100000 non-null  float64\n",
      "dtypes: float64(4), object(1)\n",
      "memory usage: 3.8+ MB\n",
      "None\n",
      "                  f0             f1             f2        product\n",
      "count  100000.000000  100000.000000  100000.000000  100000.000000\n",
      "mean        0.500419       0.250143       2.502647      92.500000\n",
      "std         0.871832       0.504433       3.248248      44.288691\n",
      "min        -1.408605      -0.848218     -12.088328       0.000000\n",
      "25%        -0.072580      -0.200881       0.287748      56.497507\n",
      "50%         0.502360       0.250252       2.515969      91.849972\n",
      "75%         1.073581       0.700646       4.715088     128.564089\n",
      "max         2.362331       1.343769      16.003790     185.364347\n",
      "\n",
      "Región 1:\n",
      "<class 'pandas.core.frame.DataFrame'>\n",
      "RangeIndex: 100000 entries, 0 to 99999\n",
      "Data columns (total 5 columns):\n",
      " #   Column   Non-Null Count   Dtype  \n",
      "---  ------   --------------   -----  \n",
      " 0   id       100000 non-null  object \n",
      " 1   f0       100000 non-null  float64\n",
      " 2   f1       100000 non-null  float64\n",
      " 3   f2       100000 non-null  float64\n",
      " 4   product  100000 non-null  float64\n",
      "dtypes: float64(4), object(1)\n",
      "memory usage: 3.8+ MB\n",
      "None\n",
      "                  f0             f1             f2        product\n",
      "count  100000.000000  100000.000000  100000.000000  100000.000000\n",
      "mean        1.141296      -4.796579       2.494541      68.825000\n",
      "std         8.965932       5.119872       1.703572      45.944423\n",
      "min       -31.609576     -26.358598      -0.018144       0.000000\n",
      "25%        -6.298551      -8.267985       1.000021      26.953261\n",
      "50%         1.153055      -4.813172       2.011479      57.085625\n",
      "75%         8.621015      -1.332816       3.999904     107.813044\n",
      "max        29.421755      18.734063       5.019721     137.945408\n",
      "\n",
      "Región 2:\n",
      "<class 'pandas.core.frame.DataFrame'>\n",
      "RangeIndex: 100000 entries, 0 to 99999\n",
      "Data columns (total 5 columns):\n",
      " #   Column   Non-Null Count   Dtype  \n",
      "---  ------   --------------   -----  \n",
      " 0   id       100000 non-null  object \n",
      " 1   f0       100000 non-null  float64\n",
      " 2   f1       100000 non-null  float64\n",
      " 3   f2       100000 non-null  float64\n",
      " 4   product  100000 non-null  float64\n",
      "dtypes: float64(4), object(1)\n",
      "memory usage: 3.8+ MB\n",
      "None\n",
      "                  f0             f1             f2        product\n",
      "count  100000.000000  100000.000000  100000.000000  100000.000000\n",
      "mean        0.002023      -0.002081       2.495128      95.000000\n",
      "std         1.732045       1.730417       3.473445      44.749921\n",
      "min        -8.760004      -7.084020     -11.970335       0.000000\n",
      "25%        -1.162288      -1.174820       0.130359      59.450441\n",
      "50%         0.009424      -0.009482       2.484236      94.925613\n",
      "75%         1.158535       1.163678       4.858794     130.595027\n",
      "max         7.238262       7.844801      16.739402     190.029838\n",
      "\n"
     ]
    }
   ],
   "source": [
    "data_0 = pd.read_csv('/Users/juanvielmapereyra/NOTEBOOKS/SPRINT_11/geo_data_0.csv')\n",
    "data_1 = pd.read_csv('/Users/juanvielmapereyra/NOTEBOOKS/SPRINT_11/geo_data_1.csv')\n",
    "data_2 = pd.read_csv('/Users/juanvielmapereyra/NOTEBOOKS/SPRINT_11/geo_data_2.csv')\n",
    "\n",
    "for i, data in enumerate([data_0, data_1, data_2]):\n",
    "    print(f\"Región {i}:\")\n",
    "    print(data.info())\n",
    "    print(data.describe())\n",
    "    print()\n"
   ]
  },
  {
   "cell_type": "markdown",
   "id": "cb40fe85",
   "metadata": {},
   "source": [
    "## 2. Entrenamiento y evaluación de modelo de regresión lineal"
   ]
  },
  {
   "cell_type": "code",
   "execution_count": 25,
   "id": "58042bb1",
   "metadata": {},
   "outputs": [
    {
     "name": "stdout",
     "output_type": "stream",
     "text": [
      "Región 0 - RMSE: 37.76, Volumen predicho promedio: 92.40, Real: 92.33\n",
      "Región 1 - RMSE: 0.89, Volumen predicho promedio: 68.71, Real: 68.73\n",
      "Región 2 - RMSE: 40.15, Volumen predicho promedio: 94.77, Real: 95.15\n"
     ]
    }
   ],
   "source": [
    "def train_region_model(data):\n",
    "    features = data.drop(['id', 'product'], axis=1)\n",
    "    target = data['product']\n",
    "    features_train, features_valid, target_train, target_valid = train_test_split(\n",
    "        features, target, test_size=0.25, random_state=42)\n",
    "    model = LinearRegression()\n",
    "    model.fit(features_train, target_train)\n",
    "    predictions = model.predict(features_valid)\n",
    "    from math import sqrt\n",
    "    rmse = sqrt(mean_squared_error(target_valid, predictions))\n",
    "\n",
    "    return model, features_valid, target_valid, predictions, rmse\n",
    "\n",
    "results = {}\n",
    "for i, data in enumerate([data_0, data_1, data_2]):\n",
    "    model, f_val, t_val, pred, rmse = train_region_model(data)\n",
    "    results[f'Región {i}'] = {\n",
    "        'model': model,\n",
    "        'features_valid': f_val,\n",
    "        'target_valid': t_val,\n",
    "        'predictions': pred,\n",
    "        'rmse': rmse\n",
    "    }\n",
    "    print(f\"Región {i} - RMSE: {rmse:.2f}, Volumen predicho promedio: {np.mean(pred):.2f}, Real: {t_val.mean():.2f}\")\n"
   ]
  },
  {
   "cell_type": "markdown",
   "id": "21d133bf",
   "metadata": {},
   "source": [
    "## 3. Cálculo de beneficios estimados"
   ]
  },
  {
   "cell_type": "code",
   "execution_count": 26,
   "id": "30797432",
   "metadata": {},
   "outputs": [
    {
     "name": "stdout",
     "output_type": "stream",
     "text": [
      "Región 0: Ganancia estimada $33,591,411.14\n",
      "Región 1: Ganancia estimada $24,150,866.97\n",
      "Región 2: Ganancia estimada $25,985,717.59\n"
     ]
    }
   ],
   "source": [
    "NUM_WELLS = 200\n",
    "BUDGET = 100_000_000\n",
    "REVENUE_PER_UNIT = 4_500\n",
    "BREAK_EVEN_PRODUCTION = BUDGET / (NUM_WELLS * REVENUE_PER_UNIT)\n",
    "\n",
    "def calculate_profit(target, predictions):\n",
    "    selected_indices = predictions.argsort()[-NUM_WELLS:]\n",
    "    return target.iloc[selected_indices].sum() * REVENUE_PER_UNIT - BUDGET\n",
    "\n",
    "profits = {}\n",
    "for i in range(3):\n",
    "    region = f'Región {i}'\n",
    "    profit = calculate_profit(results[region]['target_valid'], pd.Series(results[region]['predictions']))\n",
    "    profits[region] = profit\n",
    "    print(f\"{region}: Ganancia estimada ${profit:,.2f}\")\n"
   ]
  },
  {
   "cell_type": "markdown",
   "id": "344948cc",
   "metadata": {},
   "source": [
    "## 4. Análisis de riesgos con bootstrapping"
   ]
  },
  {
   "cell_type": "code",
   "execution_count": 27,
   "id": "3a309579",
   "metadata": {},
   "outputs": [
    {
     "name": "stdout",
     "output_type": "stream",
     "text": [
      "Región 0: Prom. beneficio $33,719,318.41, IC 95%: [30,437,973.79, 37,376,105.23], Riesgo pérdida: 0.00%\n",
      "Región 1: Prom. beneficio $24,150,866.97, IC 95%: [24,150,866.97, 24,150,866.97], Riesgo pérdida: 0.00%\n",
      "Región 2: Prom. beneficio $25,601,869.13, IC 95%: [21,666,374.07, 29,186,711.85], Riesgo pérdida: 0.00%\n"
     ]
    }
   ],
   "source": [
    "def bootstrap_profit(target, predictions, n_iterations=1000):\n",
    "    state = np.random.RandomState(42)\n",
    "    values = []\n",
    "    for _ in range(n_iterations):\n",
    "        sample = state.choice(predictions.index, size=len(predictions), replace=True)\n",
    "        pred_sample = predictions[sample]\n",
    "        target_sample = target.iloc[sample]\n",
    "        profit = calculate_profit(target_sample, pred_sample)\n",
    "        values.append(profit)\n",
    "    values = pd.Series(values)\n",
    "    return values.mean(), values.quantile(0.025), values.quantile(0.975), (values < 0).mean()\n",
    "\n",
    "for i in range(3):\n",
    "    region = f'Región {i}'\n",
    "    pred = pd.Series(results[region]['predictions']).reset_index(drop=True)\n",
    "    target = results[region]['target_valid'].reset_index(drop=True)\n",
    "    mean_, low, high, risk = bootstrap_profit(target, pred)\n",
    "    print(f\"{region}: Prom. beneficio ${mean_:,.2f}, IC 95%: [{low:,.2f}, {high:,.2f}], Riesgo pérdida: {risk*100:.2f}%\")\n"
   ]
  },
  {
   "cell_type": "markdown",
   "id": "1693d3c9",
   "metadata": {},
   "source": [
    "## 5. Conclusiones finales\n",
    "Con base en la ganancia estimada y el análisis de riesgo con bootstrapping, se recomienda la región que maximiza el beneficio y minimiza el riesgo.\n",
    "Esto asegura una mejor decisión para la inversión de 100 millones de USD en 200 pozos.\n",
    "\n",
    "Región 0 es la más rentable en términos absolutos.\n",
    "\n",
    "Las tres regiones cumplen el requisito mínimo de producir más de 111.1 unidades por pozo, pero Región 0 sobresale en volumen y ganancia."
   ]
  },
  {
   "cell_type": "markdown",
   "id": "c870464a",
   "metadata": {},
   "source": []
  }
 ],
 "metadata": {
  "kernelspec": {
   "display_name": "myenv",
   "language": "python",
   "name": "python3"
  },
  "language_info": {
   "codemirror_mode": {
    "name": "ipython",
    "version": 3
   },
   "file_extension": ".py",
   "mimetype": "text/x-python",
   "name": "python",
   "nbconvert_exporter": "python",
   "pygments_lexer": "ipython3",
   "version": "3.12.4"
  }
 },
 "nbformat": 4,
 "nbformat_minor": 5
}
